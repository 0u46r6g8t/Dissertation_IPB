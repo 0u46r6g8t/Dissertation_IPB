{
 "cells": [
  {
   "cell_type": "code",
   "execution_count": 29,
   "metadata": {},
   "outputs": [
    {
     "name": "stdout",
     "output_type": "stream",
     "text": [
      "Requirement already satisfied: opencv-python in /home/quieregatog/Documents/Documentos/Master-d_gree/Master_Dissertation/study/env/lib/python3.11/site-packages (4.9.0.80)\n",
      "Requirement already satisfied: Pillow in /home/quieregatog/Documents/Documentos/Master-d_gree/Master_Dissertation/study/env/lib/python3.11/site-packages (10.2.0)\n",
      "Collecting albumentations\n",
      "  Downloading albumentations-1.3.1-py3-none-any.whl.metadata (34 kB)\n",
      "Requirement already satisfied: numpy>=1.21.2 in /home/quieregatog/Documents/Documentos/Master-d_gree/Master_Dissertation/study/env/lib/python3.11/site-packages (from opencv-python) (1.26.3)\n",
      "Requirement already satisfied: scipy>=1.1.0 in /home/quieregatog/Documents/Documentos/Master-d_gree/Master_Dissertation/study/env/lib/python3.11/site-packages (from albumentations) (1.12.0)\n",
      "Requirement already satisfied: scikit-image>=0.16.1 in /home/quieregatog/Documents/Documentos/Master-d_gree/Master_Dissertation/study/env/lib/python3.11/site-packages (from albumentations) (0.22.0)\n",
      "Collecting PyYAML (from albumentations)\n",
      "  Downloading PyYAML-6.0.1-cp311-cp311-manylinux_2_17_x86_64.manylinux2014_x86_64.whl.metadata (2.1 kB)\n",
      "Collecting qudida>=0.0.4 (from albumentations)\n",
      "  Downloading qudida-0.0.4-py3-none-any.whl (3.5 kB)\n",
      "Collecting opencv-python-headless>=4.1.1 (from albumentations)\n",
      "  Downloading opencv_python_headless-4.9.0.80-cp37-abi3-manylinux_2_17_x86_64.manylinux2014_x86_64.whl.metadata (20 kB)\n",
      "Requirement already satisfied: scikit-learn>=0.19.1 in /home/quieregatog/Documents/Documentos/Master-d_gree/Master_Dissertation/study/env/lib/python3.11/site-packages (from qudida>=0.0.4->albumentations) (1.4.0)\n",
      "Requirement already satisfied: typing-extensions in /home/quieregatog/Documents/Documentos/Master-d_gree/Master_Dissertation/study/env/lib/python3.11/site-packages (from qudida>=0.0.4->albumentations) (4.9.0)\n",
      "Requirement already satisfied: networkx>=2.8 in /home/quieregatog/Documents/Documentos/Master-d_gree/Master_Dissertation/study/env/lib/python3.11/site-packages (from scikit-image>=0.16.1->albumentations) (3.2.1)\n",
      "Requirement already satisfied: imageio>=2.27 in /home/quieregatog/Documents/Documentos/Master-d_gree/Master_Dissertation/study/env/lib/python3.11/site-packages (from scikit-image>=0.16.1->albumentations) (2.33.1)\n",
      "Requirement already satisfied: tifffile>=2022.8.12 in /home/quieregatog/Documents/Documentos/Master-d_gree/Master_Dissertation/study/env/lib/python3.11/site-packages (from scikit-image>=0.16.1->albumentations) (2024.1.30)\n",
      "Requirement already satisfied: packaging>=21 in /home/quieregatog/Documents/Documentos/Master-d_gree/Master_Dissertation/study/env/lib/python3.11/site-packages (from scikit-image>=0.16.1->albumentations) (23.2)\n",
      "Requirement already satisfied: lazy_loader>=0.3 in /home/quieregatog/Documents/Documentos/Master-d_gree/Master_Dissertation/study/env/lib/python3.11/site-packages (from scikit-image>=0.16.1->albumentations) (0.3)\n",
      "Requirement already satisfied: joblib>=1.2.0 in /home/quieregatog/Documents/Documentos/Master-d_gree/Master_Dissertation/study/env/lib/python3.11/site-packages (from scikit-learn>=0.19.1->qudida>=0.0.4->albumentations) (1.3.2)\n",
      "Requirement already satisfied: threadpoolctl>=2.0.0 in /home/quieregatog/Documents/Documentos/Master-d_gree/Master_Dissertation/study/env/lib/python3.11/site-packages (from scikit-learn>=0.19.1->qudida>=0.0.4->albumentations) (3.2.0)\n",
      "Downloading albumentations-1.3.1-py3-none-any.whl (125 kB)\n",
      "\u001b[2K   \u001b[90m━━━━━━━━━━━━━━━━━━━━━━━━━━━━━━━━━━━━━━━━\u001b[0m \u001b[32m125.7/125.7 kB\u001b[0m \u001b[31m4.1 MB/s\u001b[0m eta \u001b[36m0:00:00\u001b[0m\n",
      "\u001b[?25hDownloading opencv_python_headless-4.9.0.80-cp37-abi3-manylinux_2_17_x86_64.manylinux2014_x86_64.whl (49.6 MB)\n",
      "\u001b[2K   \u001b[90m━━━━━━━━━━━━━━━━━━━━━━━━━━━━━━━━━━━━━━━━\u001b[0m \u001b[32m49.6/49.6 MB\u001b[0m \u001b[31m12.4 MB/s\u001b[0m eta \u001b[36m0:00:00\u001b[0m00:01\u001b[0m00:01\u001b[0m\n",
      "\u001b[?25hDownloading PyYAML-6.0.1-cp311-cp311-manylinux_2_17_x86_64.manylinux2014_x86_64.whl (757 kB)\n",
      "\u001b[2K   \u001b[90m━━━━━━━━━━━━━━━━━━━━━━━━━━━━━━━━━━━━━━━━\u001b[0m \u001b[32m757.7/757.7 kB\u001b[0m \u001b[31m15.0 MB/s\u001b[0m eta \u001b[36m0:00:00\u001b[0ma \u001b[36m0:00:01\u001b[0m\n",
      "\u001b[?25hInstalling collected packages: PyYAML, opencv-python-headless, qudida, albumentations\n",
      "Successfully installed PyYAML-6.0.1 albumentations-1.3.1 opencv-python-headless-4.9.0.80 qudida-0.0.4\n",
      "Note: you may need to restart the kernel to use updated packages.\n"
     ]
    }
   ],
   "source": [
    "%pip install opencv-python Pillow -U albumentations"
   ]
  },
  {
   "cell_type": "code",
   "execution_count": 36,
   "metadata": {},
   "outputs": [],
   "source": [
    "import cv2, os\n",
    "import albumentations as A\n",
    "import matplotlib.pyplot as plt\n"
   ]
  },
  {
   "cell_type": "code",
   "execution_count": 328,
   "metadata": {},
   "outputs": [],
   "source": [
    "def validate_path(path):\n",
    "    if (os.path.isdir(path)):\n",
    "        return True\n",
    "\n",
    "    return False\n",
    "\n",
    "\n",
    "def create_dir(dirCurrent, subDir):\n",
    "    if (not validate_path(dirCurrent + \"/\" + subDir)):\n",
    "        os.makedirs(dirCurrent + \"/\" + subDir)\n",
    "        return True\n",
    "\n",
    "    return False"
   ]
  },
  {
   "cell_type": "code",
   "execution_count": 329,
   "metadata": {},
   "outputs": [],
   "source": [
    "# def _rotateImage(_image=None, _rotateLimit=45, _scaleLimit=0.4, _pFlip=0.5, _brightnessContrast=0.2):\n",
    "\n",
    "class Tranformations():\n",
    "    \n",
    "    def __init__(self, _path=None) -> None:\n",
    "        self.__image = _path\n",
    "        \n",
    "    def _rotateImage(self,  _rotateLimit=45):\n",
    "        # Create a object of transformation\n",
    "        transform = A.Compose([\n",
    "            A.Rotate(limit=_rotateLimit), \n",
    "            # A.RandomScale(scale_limit=_scaleLimit)\n",
    "        ])\n",
    "        \n",
    "        transformed = transform(image=self.__image)\n",
    "        \n",
    "        transformed_image = transformed[\"image\"]\n",
    "        \n",
    "        self.__image = transformed_image\n",
    "\n",
    "    def _brightnessImage(self,  _brightnessContrast=0.2):\n",
    "        # Create a object of transformation\n",
    "        transform = A.Compose([A.RandomBrightnessContrast(p=_brightnessContrast)])\n",
    "        \n",
    "        transformed = transform(image=self.__image)\n",
    "        \n",
    "        transformed_image = transformed[\"image\"]\n",
    "        \n",
    "        self.__image = transformed_image\n",
    "\n",
    "    def _horizontalFlipImage(self,  _pFlip=0.5):\n",
    "        # Create a object of transformation\n",
    "        transform = A.Compose([A.HorizontalFlip(p=_pFlip)])\n",
    "        \n",
    "        transformed = transform(image=self.__image)\n",
    "        \n",
    "        transformed_image = transformed[\"image\"]\n",
    "        \n",
    "        self.__image = transformed_image\n",
    "        \n",
    "    def _saveImage(self, _path=None, _filename=None):\n",
    "\n",
    "        # Convert image in rgb format \n",
    "        image_rgb = cv2.cvtColor(self.__image, cv2.COLOR_RGB2BGR)\n",
    "        \n",
    "        cv2.imwrite(f\"{_path}/{str(_filename)}\", image_rgb)\n",
    "        \n",
    "    def _getResult(self):\n",
    "        return self.__image\n"
   ]
  },
  {
   "cell_type": "code",
   "execution_count": 349,
   "metadata": {},
   "outputs": [],
   "source": [
    "def _applyFilter(_pathImage='', _pathSave='', _nameImage=''):\n",
    "    # '../../../Master-s_Thesis/database/train/oli-bor-def/oli-bor-def_00005.png'\n",
    "    image = cv2.imread(_pathImage)\n",
    "\n",
    "    image = cv2.cvtColor(image, cv2.COLOR_BGR2RGBA)\n",
    "    \n",
    "    tranformations = Tranformations(image)\n",
    "\n",
    "    tranformations._rotateImage(_rotateLimit=35)\n",
    "    \n",
    "    # tranformations._horizontalFlipImage(_pFlip=0.2)\n",
    "\n",
    "    tranformations._saveImage(_pathSave, _nameImage)"
   ]
  },
  {
   "cell_type": "code",
   "execution_count": 351,
   "metadata": {},
   "outputs": [],
   "source": [
    "PATH_MAIN = '../../../Master-s_Thesis/database/train'\n",
    "PATH_NEW = '../../../Master-s_Thesis/database/images'\n",
    "TYPE_IMAGE = 'png'\n",
    "tag = 'v3'\n",
    "TAG_OF_VERSION = f'{tag}/{tag}_1'"
   ]
  },
  {
   "cell_type": "code",
   "execution_count": 352,
   "metadata": {},
   "outputs": [],
   "source": [
    "# Define functions of read image\n",
    "def read_files():\n",
    "    for _, subDir, _ in os.walk(\"./\" + PATH_MAIN):\n",
    "        if (len(subDir) > 0):\n",
    "            for sub in subDir:\n",
    "                if (not validate_path(PATH_NEW + \"/\" + TAG_OF_VERSION)):\n",
    "                    create_dir(PATH_NEW, TAG_OF_VERSION)\n",
    "\n",
    "                if (create_dir(PATH_NEW + \"/\" + TAG_OF_VERSION, sub)):\n",
    "                    print(\"Create a filter(s) - {}\".format(sub))\n",
    "\n",
    "                path_read = './' + PATH_NEW + \"/\" + TAG_OF_VERSION + '/{}'.format(sub)\n",
    "                c = 0\n",
    "                print(f'{PATH_MAIN}{sub}')\n",
    "                print(f\" - Generating images to - {path_read}\")\n",
    "\n",
    "                \n",
    "                for index, name in enumerate(os.listdir(f'{PATH_MAIN}/{sub}')):\n",
    "                    pathImage = f'{PATH_MAIN}/{sub}/{name}'\n",
    "                    name, ext = name.split('.')\n",
    "                    _applyFilter(pathImage, path_read, f'{name}.{ext}')\n",
    "                    "
   ]
  },
  {
   "cell_type": "markdown",
   "metadata": {},
   "source": [
    "# Versions of test:\n",
    "\n",
    "    * V3.1: Rotation = [-35, 35]\n",
    "    * V3.2: Rotation = [-35, 35] and Horizontal Flip = [0.2]\n",
    "    * V3.3: Rotation = [-15, 15] and Horizontal Flip = [0.2]\n",
    "    * V3.4: Rotation = [-15, 15]"
   ]
  },
  {
   "cell_type": "code",
   "execution_count": 353,
   "metadata": {},
   "outputs": [
    {
     "name": "stdout",
     "output_type": "stream",
     "text": [
      "../../../Master-s_Thesis/database/trainoli-bor-def\n",
      " - Generating images to - ./../../../Master-s_Thesis/database/images/v3/v3_1/oli-bor-def\n",
      "../../../Master-s_Thesis/database/trainoli-heal\n",
      " - Generating images to - ./../../../Master-s_Thesis/database/images/v3/v3_1/oli-heal\n",
      "../../../Master-s_Thesis/database/trainoli-pea-spo\n",
      " - Generating images to - ./../../../Master-s_Thesis/database/images/v3/v3_1/oli-pea-spo\n",
      "../../../Master-s_Thesis/database/trainoli-pot-def\n",
      " - Generating images to - ./../../../Master-s_Thesis/database/images/v3/v3_1/oli-pot-def\n"
     ]
    }
   ],
   "source": [
    "read_files()"
   ]
  },
  {
   "cell_type": "code",
   "execution_count": null,
   "metadata": {},
   "outputs": [],
   "source": []
  }
 ],
 "metadata": {
  "kernelspec": {
   "display_name": "env",
   "language": "python",
   "name": "python3"
  },
  "language_info": {
   "codemirror_mode": {
    "name": "ipython",
    "version": 3
   },
   "file_extension": ".py",
   "mimetype": "text/x-python",
   "name": "python",
   "nbconvert_exporter": "python",
   "pygments_lexer": "ipython3",
   "version": "3.11.3"
  }
 },
 "nbformat": 4,
 "nbformat_minor": 2
}
